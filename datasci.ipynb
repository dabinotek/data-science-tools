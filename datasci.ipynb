{
 "cells": [
  {
   "cell_type": "markdown",
   "id": "59fbe929",
   "metadata": {},
   "source": [
    "# Data Science Tools and Ecosystem"
   ]
  },
  {
   "cell_type": "markdown",
   "id": "74a0cf27",
   "metadata": {},
   "source": [
    "In this notebook, Data Science Tools and Ecosystem are summarized"
   ]
  },
  {
   "cell_type": "markdown",
   "id": "353bcbb6",
   "metadata": {},
   "source": [
    "__Objectives:__\n",
    "- Python\n",
    "- R\n",
    "- Julia\n",
    "- Scala\n",
    "- Java\n"
   ]
  },
  {
   "cell_type": "markdown",
   "id": "5400a6ee",
   "metadata": {},
   "source": [
    "Some of the popular languages that Data Scientists use are:\n",
    "1. Python\n",
    "2. R\n",
    "3. Julia"
   ]
  },
  {
   "cell_type": "markdown",
   "id": "403c8852",
   "metadata": {},
   "source": [
    "Some of the commonly used libraries used by Data Scientists include:\n",
    "1.Pandas\n",
    "2.Numpy\n",
    "3. Scikit"
   ]
  },
  {
   "cell_type": "markdown",
   "id": "0479f202",
   "metadata": {},
   "source": [
    "  Data Science Tools\n",
    "|------------------|\n",
    "|Python            |\n",
    "|R.                |\n",
    "|Julia.            |"
   ]
  },
  {
   "cell_type": "markdown",
   "id": "51decc88",
   "metadata": {},
   "source": [
    "### Below are a few examples of evaluating arithmetic expressions in Python"
   ]
  },
  {
   "cell_type": "code",
   "execution_count": 4,
   "id": "b7d9c78d",
   "metadata": {},
   "outputs": [
    {
     "name": "stdout",
     "output_type": "stream",
     "text": [
      "The answer is : 17\n"
     ]
    }
   ],
   "source": [
    "#This a simple arithmetic expression to mutiply then add integers\n",
    "A = (3 * 4) + 5\n",
    "print(\"The answer is : {}\".format(A))"
   ]
  },
  {
   "cell_type": "code",
   "execution_count": 5,
   "id": "83740ad0",
   "metadata": {},
   "outputs": [
    {
     "name": "stdout",
     "output_type": "stream",
     "text": [
      "200 minutes is equal to 3.3333333333333335->hours\n"
     ]
    }
   ],
   "source": [
    "#This will convert 200 minutes to hours by diving by 60\n",
    "\n",
    "hr = 60\n",
    "x = 200\n",
    "\n",
    "y = x / hr\n",
    "\n",
    "print(f'200 minutes is equal to {y}->hours')"
   ]
  },
  {
   "cell_type": "markdown",
   "id": "c9a61f63",
   "metadata": {},
   "source": [
    "## Author\n",
    "Abdulmalik Danlami Mohammed"
   ]
  }
 ],
 "metadata": {
  "kernelspec": {
   "display_name": "Python 3 (ipykernel)",
   "language": "python",
   "name": "python3"
  },
  "language_info": {
   "codemirror_mode": {
    "name": "ipython",
    "version": 3
   },
   "file_extension": ".py",
   "mimetype": "text/x-python",
   "name": "python",
   "nbconvert_exporter": "python",
   "pygments_lexer": "ipython3",
   "version": "3.9.13"
  }
 },
 "nbformat": 4,
 "nbformat_minor": 5
}
